{
 "cells": [
  {
   "cell_type": "markdown",
   "metadata": {},
   "source": [
    "- Ejercicio 1\n",
    "Calculadora del índice de masa corporal\n",
    "\n",
    "Escribe una función que calcule el IMC ingresado por el usuario/a, es decir, quien lo ejecute deberá ingresar estos datos"
   ]
  },
  {
   "cell_type": "code",
   "execution_count": 5,
   "metadata": {},
   "outputs": [
    {
     "name": "stdout",
     "output_type": "stream",
     "text": [
      "Tu Indice de masa corporal es:  30.25 Hay que retomar el camino fitness gordo(a)\n"
     ]
    }
   ],
   "source": [
    "peso = float( input(\"dame tu peso en Kg: \"))\n",
    "altura = float( input(\"dame tu altura en m: \"))\n",
    "categoria = \"\"\n",
    "imc = (peso)/((altura)**2) \n",
    "if imc < 18.5:\n",
    "    categoria = \"Muy flaco(a) come más\"\n",
    "elif 18.5 <= imc < 25:\n",
    "    categoria = \"Perfecto peso normal\"\n",
    "elif 25 <= imc < 30:\n",
    "    categoria = \"Te gusta la comidita he? hay que vigilar\"\n",
    "else:\n",
    "    categoria = \"Hay que retomar el camino fitness gordo(a)\"\n",
    "    \n",
    "print (\"Tu Indice de masa corporal es: \", round(imc,2), (categoria))"
   ]
  },
  {
   "cell_type": "markdown",
   "metadata": {},
   "source": [
    "- Ejercicio 2\n",
    "Conversor de temperaturas.\n",
    "\n",
    "Existen diversas unidades de temperatura utilizadas en distintos contextos y regiones. Las más comunes son Celsius (°C), Fahrenheit (°F) y Kelvin (K). También existen otras unidades como Rankine (°Ra) y Réaumur (°Re). Selecciona al menos 2 conversores, de modo que al introducir una temperatura devuelva, como mínimo, dos conversiones."
   ]
  },
  {
   "cell_type": "code",
   "execution_count": null,
   "metadata": {},
   "outputs": [
    {
     "name": "stdout",
     "output_type": "stream",
     "text": [
      "19.3 °C\n",
      "292.45 °k\n",
      "66.74 °F\n",
      "526.41 °Ra\n",
      "15.44 °Re\n"
     ]
    }
   ],
   "source": [
    "tempcent = float( input(\"Pon la temperatura en ºC: \"))\n",
    "\n",
    "tempf = ((tempcent)*9)/5 + 32\n",
    "tempk = (tempcent)+ 273.15\n",
    "tempre =((tempcent)*4)/5\n",
    "tempra = ((tempcent)*1.8) + 491.67\n",
    "\n",
    "print(tempcent,\"°C\")\n",
    "print (round(tempk,2),\"°k\")\n",
    "print (round(tempf,2),\"°F\")\n",
    "print (round(tempra,2),\"°Ra\")\n",
    "print (round(tempre,2),\"°Re\")"
   ]
  },
  {
   "cell_type": "markdown",
   "metadata": {},
   "source": [
    "- Ejercicio 3\n",
    "Contador de palabras de un texto.\n",
    "\n",
    "Escribe una función que dado un texto, muestre las veces que aparece cada palabra."
   ]
  },
  {
   "cell_type": "code",
   "execution_count": null,
   "metadata": {},
   "outputs": [
    {
     "name": "stdout",
     "output_type": "stream",
     "text": [
      "{'alegría': 2, 'apreciar': 1, 'azul': 1, 'brilla': 1, 'calienta': 1, 'cielo': 1, 'cielo.': 1, 'color': 1, 'color.': 1, 'de': 1, 'debemos': 1, 'el': 4, 'en': 2, 'es': 3, 'esenciales': 1, 'florece': 1, 'hermosa': 1, 'la': 5, 'llena': 1, 'para': 1, 'primavera': 1, 'primavera.': 1, 'que': 1, 'regalo': 1, 'sol': 2, 'son': 1, 'tierra': 1, 'tierra.': 1, 'trae': 1, 'un': 1, 'vida': 2, 'vida.': 2, 'y': 4}\n"
     ]
    }
   ],
   "source": [
    "texto = input(\"Escribe tu texto\")\n",
    "def cuenta_palabras(texto):\n",
    "    \n",
    "    lista = texto.split() \n",
    "    lista.sort()\n",
    "    cuenta = {}\n",
    "    global palabras_contadas # declaro una veriable global para poder usarla en el ultimo ejercicio \n",
    "    for i in lista:\n",
    "        if i in cuenta:\n",
    "            cuenta [i] += 1\n",
    "        else :\n",
    "            cuenta [i] = 1 \n",
    "    palabras_contadas = cuenta\n",
    "print(palabras_contadas)"
   ]
  },
  {
   "cell_type": "markdown",
   "metadata": {},
   "source": [
    "- Ejercicio 4\n",
    "Diccionario inverso.\n",
    "\n",
    "Resulta que el cliente tiene una encuesta muy antigua que se almacena en un diccionario y los resultados los necesita a la inversa, es decir, intercambiados las claves y valores. Los valores y claves en el diccionario original son únicos; si éste no es el caso, la función debería imprimir un mensaje de advertencia.\n",
    "\n"
   ]
  },
  {
   "cell_type": "code",
   "execution_count": null,
   "metadata": {},
   "outputs": [
    {
     "name": "stdout",
     "output_type": "stream",
     "text": [
      "{1: 'a', 2: 'b', 3: 'c', 4: 'd', 5: 'e', 6: 'f'}\n"
     ]
    }
   ],
   "source": [
    "diccionario = {\"a\": 1, \"b\": 2, \"c\": 3, \"d\": 4, \"e\": 5, \"f\": 6}\n",
    "lista = []\n",
    "repetido = False\n",
    "for i in diccionario.values():\n",
    "    if i in lista:\n",
    "        repetido = True\n",
    "        break\n",
    "    else:\n",
    "        lista.append (i)  \n",
    "\n",
    "if repetido:\n",
    "    print (\"Error: posibles claves multiples\")\n",
    "else:\n",
    "    dic_invertido = {v: k for k, v in diccionario.items()} # compresion de diccionario, lo recorre en si mismo\n",
    "    print(dic_invertido)"
   ]
  },
  {
   "cell_type": "markdown",
   "metadata": {},
   "source": [
    "NIvel 2\n",
    "Ejercicio 1\n",
    "Diccionario inverso con duplicados\n",
    "\n",
    "Continuando con el ejercicio 4 del nivel 1: al cliente se olvidó comentar un detalle y resulta que los valores en el diccionario original pueden duplicarse y más, por lo que las claves intercambiadas pueden tener duplicados. En este caso, en el ejercicio anterior imprimías un mensaje de advertencia, ahora, los valores del diccionario resultante tendrán que almacenarse como una lista. Ten en cuenta que si es un valor único no debe ser una lista."
   ]
  },
  {
   "cell_type": "code",
   "execution_count": 22,
   "metadata": {},
   "outputs": [
    {
     "name": "stdout",
     "output_type": "stream",
     "text": [
      "{1: ['a'], 2: ['b', 'f'], 3: ['c'], 4: ['d'], 5: ['e']}\n"
     ]
    }
   ],
   "source": [
    "diccionario = {\"a\": 1, \"b\": 2, \"c\": 3, \"d\": 4, \"e\": 5, \"f\": 2}\n",
    "\n",
    "dic_invertido = {}\n",
    "for i in diccionario:\n",
    "    valor = diccionario[i]\n",
    "    if valor in dic_invertido:\n",
    "                dic_invertido[valor].append(i) \n",
    "    else:\n",
    "        dic_invertido[valor] = [i]  \n",
    "print(dic_invertido)     "
   ]
  },
  {
   "cell_type": "markdown",
   "metadata": {},
   "source": [
    "Ejercicio 2\n",
    "Conversión de tipos de datos\n",
    "\n",
    "El cliente recibe una lista de datos y necesita generar dos listas, la primera donde estarán todos los elementos que pudieron convertirse en flotantes y la otra donde están los elementos que no pudieron convertirse. Ejemplo de la lista que recibe el cliente: [ '1.3', 'one' , '1e10' , 'seven', '3-1/2', ('2',1,1.4,'not-a-number'), [1,2,'3','3.4']]"
   ]
  },
  {
   "cell_type": "code",
   "execution_count": null,
   "metadata": {},
   "outputs": [
    {
     "name": "stdout",
     "output_type": "stream",
     "text": [
      "Cambiados [1.3, 10000000000.0, 2.0, 1.0, 1.4, 1.0, 2.0, 3.0, 3.4]\n",
      "No cambiados ['one', 'seven', '3-1/2', 'not-a-number']\n"
     ]
    }
   ],
   "source": [
    "lista = ['1.3', 'one' , '1e10' , 'seven', '3-1/2', ('2',1,1.4,'not-a-number'), [1,2,'3','3.4']]\n",
    "sicon = []\n",
    "nocon = []\n",
    "for i in lista:\n",
    "    try:  # para parar el bucle al  detectar el error ( que el valor no se puede convertir)\n",
    "        if isinstance(i,(list,tuple)): # para detectar listas y tuplas en la cadena de strings \n",
    "            for x in i: # bucle para recorrer las listas internas\n",
    "                try:  # igual para detectar el error\n",
    "                    sicon.append (float(x))\n",
    "                except ValueError: # agrega el valor de x a la lista de no se puudocuando detectar el error\n",
    "                    nocon.append (x)\n",
    "        else:\n",
    "            sicon.append (float(i))\n",
    "            \n",
    "    except ValueError: # agrega el valor de x a la lista de no se puudocuando detectar el error\n",
    "        nocon.append (i)\n",
    "\n",
    "print(\"Numeros float\", sicon)\n",
    "print(\"Valores No muméricos\", nocon)"
   ]
  },
  {
   "cell_type": "markdown",
   "metadata": {},
   "source": [
    "Nivel 3\n",
    "Ejercicio 1\n",
    "Contador y ordenador de palabras de un texto.\n",
    "\n",
    "El cliente quedó contento con el contador de palabras, pero ahora quiere leer archivos TXT y que calcule la frecuencia de cada palabra ordenadas dentro de las entradas habituales del diccionario según la letra con la que empiezan, es decir, las claves deben ir de la A a Z y dentro de la A_t para A_z. da sería:"
   ]
  },
  {
   "cell_type": "code",
   "execution_count": 16,
   "metadata": {},
   "outputs": [
    {
     "name": "stdout",
     "output_type": "stream",
     "text": [
      "{'a': {'aire.': 1, 'alegra': 1, 'alegría': 2, 'apreciar': 1, 'azul': 1, 'azul.': 1}, 'b': {'brilla': 1}, 'c': {'cada': 1, 'calienta': 1, 'cielo': 3, 'color': 2, 'con': 1}, 'd': {'danza': 1, 'de': 4, 'debemos': 1, 'dorada.': 1}, 'e': {'el': 9, 'en': 5, 'es': 3, 'espectáculo': 1}, 'f': {'felicidad,': 1, 'florece,': 1, 'flores': 1}, 'h': {'hermosa': 1, 'hermoso,': 1}, 'i': {'intensamente': 1}, 'l': {'la': 11, 'las': 1, 'llena': 1, 'luz': 1}, 'm': {'momento.': 1}, 'n': {'nos': 1}, 'p': {'paisaje.': 1, 'pena': 1, 'plenamente.': 1, 'precioso,': 1, 'primavera': 2, 'primavera,': 1, 'primavera.': 1}, 'q': {'que': 1}, 'r': {'recuerda': 1, 'regalo': 1, 'respira': 1}, 's': {'se': 2, 'siente': 1, 'sol': 2, 'sol,': 1, 'su': 1}, 't': {'tierra': 2, 'tierra,': 1, 'trae': 1}, 'u': {'un': 2, 'una': 1, 'unen': 1}, 'v': {'vale': 1, 'vida': 3, 'vida,': 1, 'vida.': 1, 'vivirla': 1}, 'y': {'y': 7}}\n"
     ]
    }
   ],
   "source": [
    "texto = input(\"Ecribe tu texto:\").lower()\n",
    "\n",
    "palabras_contadas = {}\n",
    "dicc_doble = {}\n",
    "cuenta_palabras(texto)\n",
    "#print (palabras_contadas)\n",
    "for x in palabras_contadas:\n",
    "    letra = x[0]\n",
    "    if letra in dicc_doble:\n",
    "        dicc_doble[letra][x] = palabras_contadas[x]            \n",
    "    else:\n",
    "        dicc_doble[letra] =  {x: palabras_contadas[x]}\n",
    "print(dicc_doble)\n"
   ]
  }
 ],
 "metadata": {
  "kernelspec": {
   "display_name": "Python 3",
   "language": "python",
   "name": "python3"
  },
  "language_info": {
   "codemirror_mode": {
    "name": "ipython",
    "version": 3
   },
   "file_extension": ".py",
   "mimetype": "text/x-python",
   "name": "python",
   "nbconvert_exporter": "python",
   "pygments_lexer": "ipython3",
   "version": "3.11.9"
  }
 },
 "nbformat": 4,
 "nbformat_minor": 2
}
