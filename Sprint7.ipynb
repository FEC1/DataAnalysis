{
 "cells": [
  {
   "cell_type": "markdown",
   "metadata": {},
   "source": [
    "- Ejercicio 1\n",
    "Calculadora del índice de masa corporal\n",
    "\n",
    "Escribe una función que calcule el IMC ingresado por el usuario/a, es decir, quien lo ejecute deberá ingresar estos datos"
   ]
  },
  {
   "cell_type": "code",
   "execution_count": 5,
   "metadata": {},
   "outputs": [
    {
     "name": "stdout",
     "output_type": "stream",
     "text": [
      "Tu Indice de masa corporal es:  30.25 Hay que retomar el camino fitness gordo(a)\n"
     ]
    }
   ],
   "source": [
    "peso = float( input(\"dame tu peso en Kg: \"))\n",
    "altura = float( input(\"dame tu altura en m: \"))\n",
    "categoria = \"\"\n",
    "imc = (peso)/((altura)**2) \n",
    "if imc < 18.5:\n",
    "    categoria = \"Muy flaco(a) come más\"\n",
    "elif 18.5 <= imc < 25:\n",
    "    categoria = \"Perfecto peso normal\"\n",
    "elif 25 <= imc < 30:\n",
    "    categoria = \"Te gusta la comidita he? hay que vigilar\"\n",
    "else:\n",
    "    categoria = \"Hay que retomar el camino fitness gordo(a)\"\n",
    "    \n",
    "print (\"Tu Indice de masa corporal es: \", round(imc,2), (categoria))"
   ]
  },
  {
   "cell_type": "markdown",
   "metadata": {},
   "source": [
    "- Ejercicio 2\n",
    "Conversor de temperaturas.\n",
    "\n",
    "Existen diversas unidades de temperatura utilizadas en distintos contextos y regiones. Las más comunes son Celsius (°C), Fahrenheit (°F) y Kelvin (K). También existen otras unidades como Rankine (°Ra) y Réaumur (°Re). Selecciona al menos 2 conversores, de modo que al introducir una temperatura devuelva, como mínimo, dos conversiones."
   ]
  },
  {
   "cell_type": "code",
   "execution_count": 7,
   "metadata": {},
   "outputs": [
    {
     "name": "stdout",
     "output_type": "stream",
     "text": [
      "15.0 °C\n",
      "288.15 °k\n",
      "59.0 °F\n",
      "518.67 °Ra\n",
      "12.0 °Re\n"
     ]
    }
   ],
   "source": [
    "tempcent = float( input(\"Pon la temperatura en ºC: \"))\n",
    "\n",
    "tempf = ((tempcent)*9)/5 + 32\n",
    "tempk = (tempcent)+ 273.15\n",
    "tempre =((tempcent)*4)/5\n",
    "tempra = ((tempcent)*1.8) + 491.67\n",
    "\n",
    "print(tempcent,\"°C\")\n",
    "print (round(tempk,2),\"°k\")\n",
    "print (round(tempf,2),\"°F\")\n",
    "print (round(tempra,2),\"°Ra\")\n",
    "print (round(tempre,2),\"°Re\")"
   ]
  },
  {
   "cell_type": "markdown",
   "metadata": {},
   "source": [
    "- Ejercicio 3\n",
    "Contador de palabras de un texto.\n",
    "\n",
    "Escribe una función que dado un texto, muestre las veces que aparece cada palabra."
   ]
  },
  {
   "cell_type": "code",
   "execution_count": 20,
   "metadata": {},
   "outputs": [
    {
     "name": "stdout",
     "output_type": "stream",
     "text": [
      "{'adoraban': 1, 'al': 1, 'algo': 1, 'cada': 1, 'calles': 1, 'corría': 1, 'curioso': 1, 'del': 1, 'día': 1, 'el': 3, 'en': 1, 'encontraba': 1, 'era': 1, 'explorar': 1, 'gato': 4, 'gustaba': 1, 'había': 1, 'las': 1, 'le': 1, 'lo': 1, 'los': 1, 'merodeaba': 1, 'mientras': 1, 'muy': 1, 'negro': 4, 'niños': 1, 'nuevo': 1, 'pequeño': 1, 'por': 2, 'pueblo': 3, 'que': 1, 'seguían': 1, 'siempre': 2, 'un': 2, 'y': 2}\n"
     ]
    }
   ],
   "source": [
    "import string # importo libreria\n",
    "\n",
    "def cuenta_palabras(texto):\n",
    "    texto = texto.translate(str.maketrans('', '', string.punctuation)) # esto es para el ultimo ejercicio que no me cuente parentesis y otras puntuaciones\n",
    "    lista = texto.split()\n",
    "    lista.sort()\n",
    "    cuenta = {}\n",
    "    for i in lista:\n",
    "        if i in cuenta:\n",
    "            cuenta [i] += 1\n",
    "        else :\n",
    "            cuenta [i] = 1 \n",
    "    return cuenta\n",
    "\n",
    "texto = input(\"Escribe tu texto\").lower()\n",
    "palabras_contadas = cuenta_palabras(texto)\n",
    "print(palabras_contadas)"
   ]
  },
  {
   "cell_type": "markdown",
   "metadata": {},
   "source": [
    "- Ejercicio 4\n",
    "Diccionario inverso.\n",
    "\n",
    "Resulta que el cliente tiene una encuesta muy antigua que se almacena en un diccionario y los resultados los necesita a la inversa, es decir, intercambiados las claves y valores. Los valores y claves en el diccionario original son únicos; si éste no es el caso, la función debería imprimir un mensaje de advertencia.\n",
    "\n"
   ]
  },
  {
   "cell_type": "code",
   "execution_count": null,
   "metadata": {},
   "outputs": [
    {
     "name": "stdout",
     "output_type": "stream",
     "text": [
      "{1: 'a', 2: 'b', 3: 'c', 4: 'd', 5: 'e', 6: 'f'}\n"
     ]
    }
   ],
   "source": [
    "diccionario = {\"a\": 1, \"b\": 2, \"c\": 3, \"d\": 4, \"e\": 5, \"f\": 6}\n",
    "lista = []\n",
    "repetido = False\n",
    "for i in diccionario.values():\n",
    "    if i in lista:\n",
    "        repetido = True\n",
    "        break\n",
    "    else:\n",
    "        lista.append (i)  \n",
    "\n",
    "if repetido:\n",
    "    print (\"Error: posibles claves multiples\")\n",
    "else:\n",
    "    dic_invertido = {v: k for k, v in diccionario.items()} # compresion de diccionario, lo recorre en si mismo\n",
    "    print(dic_invertido)"
   ]
  },
  {
   "cell_type": "markdown",
   "metadata": {},
   "source": [
    "NIvel 2\n",
    "Ejercicio 1\n",
    "Diccionario inverso con duplicados\n",
    "\n",
    "Continuando con el ejercicio 4 del nivel 1: al cliente se olvidó comentar un detalle y resulta que los valores en el diccionario original pueden duplicarse y más, por lo que las claves intercambiadas pueden tener duplicados. En este caso, en el ejercicio anterior imprimías un mensaje de advertencia, ahora, los valores del diccionario resultante tendrán que almacenarse como una lista. Ten en cuenta que si es un valor único no debe ser una lista."
   ]
  },
  {
   "cell_type": "code",
   "execution_count": 22,
   "metadata": {},
   "outputs": [
    {
     "name": "stdout",
     "output_type": "stream",
     "text": [
      "{1: ['a'], 2: ['b', 'f'], 3: ['c'], 4: ['d'], 5: ['e']}\n"
     ]
    }
   ],
   "source": [
    "diccionario = {\"a\": 1, \"b\": 2, \"c\": 3, \"d\": 4, \"e\": 5, \"f\": 2}\n",
    "\n",
    "dic_invertido = {}\n",
    "for i in diccionario:\n",
    "    valor = diccionario[i]\n",
    "    if valor in dic_invertido:\n",
    "                dic_invertido[valor].append(i) \n",
    "    else:\n",
    "        dic_invertido[valor] = [i]  \n",
    "print(dic_invertido)     "
   ]
  },
  {
   "cell_type": "markdown",
   "metadata": {},
   "source": [
    "Ejercicio 2\n",
    "Conversión de tipos de datos\n",
    "\n",
    "El cliente recibe una lista de datos y necesita generar dos listas, la primera donde estarán todos los elementos que pudieron convertirse en flotantes y la otra donde están los elementos que no pudieron convertirse. Ejemplo de la lista que recibe el cliente: [ '1.3', 'one' , '1e10' , 'seven', '3-1/2', ('2',1,1.4,'not-a-number'), [1,2,'3','3.4']]"
   ]
  },
  {
   "cell_type": "code",
   "execution_count": null,
   "metadata": {},
   "outputs": [
    {
     "name": "stdout",
     "output_type": "stream",
     "text": [
      "Cambiados [1.3, 10000000000.0, 2.0, 1.0, 1.4, 1.0, 2.0, 3.0, 3.4]\n",
      "No cambiados ['one', 'seven', '3-1/2', 'not-a-number']\n"
     ]
    }
   ],
   "source": [
    "lista = ['1.3', 'one' , '1e10' , 'seven', '3-1/2', ('2',1,1.4,'not-a-number'), [1,2,'3','3.4']]\n",
    "sicon = []\n",
    "nocon = []\n",
    "for i in lista:\n",
    "    try:  # para parar el bucle al  detectar el error ( que el valor no se puede convertir)\n",
    "        if isinstance(i,(list,tuple)): # para detectar listas y tuplas en la cadena de strings \n",
    "            for x in i: # bucle para recorrer las listas internas\n",
    "                try:  # igual para detectar el error\n",
    "                    sicon.append (float(x))\n",
    "                except ValueError: # agrega el valor de x a la lista de no se puudocuando detectar el error\n",
    "                    nocon.append (x)\n",
    "        else:\n",
    "            sicon.append (float(i))\n",
    "            \n",
    "    except ValueError: # agrega el valor de x a la lista de no se puudocuando detectar el error\n",
    "        nocon.append (i)\n",
    "\n",
    "print(\"Numeros float\", sicon)\n",
    "print(\"Valores No muméricos\", nocon)"
   ]
  },
  {
   "cell_type": "markdown",
   "metadata": {},
   "source": [
    "Nivel 3\n",
    "Ejercicio 1\n",
    "Contador y ordenador de palabras de un texto.\n",
    "\n",
    "El cliente quedó contento con el contador de palabras, pero ahora quiere leer archivos TXT y que calcule la frecuencia de cada palabra ordenadas dentro de las entradas habituales del diccionario según la letra con la que empiezan, es decir, las claves deben ir de la A a Z y dentro de la A_t para A_z. da sería:"
   ]
  },
  {
   "cell_type": "code",
   "execution_count": 19,
   "metadata": {},
   "outputs": [
    {
     "name": "stdout",
     "output_type": "stream",
     "text": [
      "{'a': {'a': 3, 'agua': 1, 'al': 2, 'alba': 4, 'alcobas': 1, 'alimenta': 1, 'alma': 1, 'amarga': 1, 'azucena': 1}, 'b': {'baco': 1, 'banquete': 1, 'bebe': 1, 'blanca': 3, 'boca': 1, 'bosques': 1, 'buen': 1}, 'c': {'cabaã±as': 1, 'carnes': 2, 'casta': 3, 'cerrada': 1, 'con': 4, 'conservas': 1, 'copas': 1, 'corola': 1, 'corriste': 1, 'cuando': 2, 'cubierto': 1, 'cuerpo': 1, 'cuã¡les': 1}, 'd': {'de': 8, 'dejaste': 1, 'del': 1, 'diga': 1, 'dios': 2, 'duerme': 1}, 'e': {'el': 4, 'ellas': 1, 'en': 4, 'engaã±o': 1, 'enredada': 1, 'entonces': 1, 'escarcha': 1, 'espumas': 1, 'esqueleto': 1, 'estrago': 1}, 'f': {'festejando': 1, 'filtrado': 1, 'frutos': 1}, 'h': {'habla': 1, 'hacia': 1, 'haya': 1, 'hayas': 1, 'hermana': 1, 'hombre': 1, 'hubiste': 1, 'huye': 1}, 'i': {'intacto': 1}, 'j': {'jardines': 1}, 'l': {'la': 3, 'labios': 1, 'las': 7, 'lo': 2, 'los': 4, 'luna': 1, 'lã©vate': 1, 'lã\\xadmpiate': 1}, 'm': {'mano': 1, 'manos': 1, 'margarita': 1, 'me': 9, 'mi': 1, 'mieles': 1, 'milagros': 1, 'mojada': 1, 'montaã±a': 1, 'morados': 1}, 'n': {'negros': 1, 'ni': 2, 'no': 1, 'nã¡car': 1, 'nã\\xadvea': 2}, 'p': {'perdone': 2, 'perfume': 1, 'por': 2, 'pretendes': 3, 'pretã©ndeme': 3, 'puesto': 1, 'pã¡jaros': 1, 'pã¡mpanos': 1}, 'q': {'que': 6, 'quedã³': 1, 'quieres': 6}, 'r': {'rayo': 1, 'raã\\xadz': 1, 'renueva': 1, 'rocas': 1, 'rojo': 1}, 's': {'salitre': 1, 'se': 2, 'sea': 1, 'sean': 1, 'sobre': 2, 'sã©': 1}, 't': {'te': 3, 'tejidos': 1, 'tenue': 1, 'tierra': 1, 'toca': 1, 'todas': 2, 'todavã\\xada': 1, 'tornadas': 1, 'tãº': 8}, 'u': {'un': 1, 'una': 1}, 'v': {'vestido': 1, 'vete': 1, 'vive': 1}, 'y': {'y': 5}, 'â': {'â¡me': 1}}\n"
     ]
    }
   ],
   "source": [
    "with open(\"tu_me_quieres_blanca.txt\", 'r') as f:\n",
    "    texto = f.read()\n",
    "\n",
    "palabras_contadas = cuenta_palabras(texto.lower()) # le agregue lower para que no me separe mayusculas y minusculas\n",
    "dicc_doble = {}\n",
    "\n",
    "#print (palabras_contadas)\n",
    "for x in palabras_contadas:\n",
    "    letra = x[0]\n",
    "    if letra in dicc_doble:\n",
    "        dicc_doble[letra][x] = palabras_contadas[x]            \n",
    "    else:\n",
    "        dicc_doble[letra] =  {x: palabras_contadas[x]}\n",
    "print(dicc_doble)\n"
   ]
  }
 ],
 "metadata": {
  "kernelspec": {
   "display_name": "Python 3",
   "language": "python",
   "name": "python3"
  },
  "language_info": {
   "codemirror_mode": {
    "name": "ipython",
    "version": 3
   },
   "file_extension": ".py",
   "mimetype": "text/x-python",
   "name": "python",
   "nbconvert_exporter": "python",
   "pygments_lexer": "ipython3",
   "version": "3.11.9"
  }
 },
 "nbformat": 4,
 "nbformat_minor": 2
}
